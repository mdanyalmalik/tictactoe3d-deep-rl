{
 "cells": [
  {
   "cell_type": "code",
   "execution_count": 11,
   "metadata": {},
   "outputs": [],
   "source": [
    "import numpy as np\n",
    "import matplotlib.pyplot as plt\n",
    "import math\n",
    "import random"
   ]
  },
  {
   "cell_type": "code",
   "execution_count": 185,
   "metadata": {},
   "outputs": [],
   "source": [
    "class TicTacToe:\n",
    "    def __init__(self):\n",
    "        self.board = [[\" \" for _ in range(4)] for _ in range(4)]\n",
    "        self.current_player = -1\n",
    "\n",
    "\n",
    "    def check_draw(self):\n",
    "        for row in self.board:\n",
    "            if \" \" in row:\n",
    "                return False\n",
    "        return True\n",
    "\n",
    "    def print_board(self):\n",
    "        # Prints a GUI-like representation of the board\n",
    "        print(\"┌───┬───┬───┬───┐\")\n",
    "        for i, row in enumerate(self.board):\n",
    "            print(\"│ \" + \" │ \".join(row) + \" │\")\n",
    "            if i < 3:\n",
    "                print(\"├───┼───┼───┼───┤\")\n",
    "        print(\"└───┴───┴───┴───┘\")\n",
    "\n",
    "    def check_winner(self, player):\n",
    "        for row in self.board:\n",
    "            if all([cell == player for cell in row]):\n",
    "                return True\n",
    "        for col in range(4):\n",
    "            if all([self.board[row][col] == player for row in range(4)]):\n",
    "                return True\n",
    "        if all([self.board[i][i] == player for i in range(4)]) or all(\n",
    "            [self.board[i][3 - i] == player for i in range(4)]\n",
    "        ):\n",
    "            return True\n",
    "        return False\n",
    "\n",
    "    def step(self, state):\n",
    "        row = int(state / 4)\n",
    "        col = int(state % 4)\n",
    "\n",
    "        current_player_symbol = \" \"\n",
    "        if self.current_player == -1:\n",
    "            current_player_symbol = \"X\"\n",
    "        else:\n",
    "            current_player_symbol = \"O\"\n",
    "\n",
    "        if self.board[row][col] == \" \":\n",
    "            self.board[row][col] = current_player_symbol\n",
    "\n",
    "        if self.check_winner(\"O\"):\n",
    "            return self.board, self.current_player, True, -1\n",
    "        elif self.check_winner(\"X\"):\n",
    "            return self.board, self.current_player, True, 1\n",
    "        elif self.check_draw():\n",
    "            return self.board, self.current_player, True, 0\n",
    "\n",
    "        self.current_player *= -1\n",
    "\n",
    "        return self.board, self.current_player, False, 0"
   ]
  },
  {
   "cell_type": "code",
   "execution_count": 184,
   "metadata": {},
   "outputs": [],
   "source": [
    "# Initialized as a random policy for player 1\n",
    "\n",
    "def policy_player1(board):\n",
    "\n",
    "    possible_actions = []\n",
    "\n",
    "    for i in range(4):\n",
    "        for j in range(4):\n",
    "            if board[i][j] == \" \":\n",
    "                possible_actions.append(i*4 + j)\n",
    "\n",
    "\n",
    "    return random.choice(possible_actions)\n",
    "\n",
    "\n",
    "\n",
    "# Initialized as a random policy for player 2\n",
    "def policy_player2(board):\n",
    "\n",
    "    possible_actions = []\n",
    "\n",
    "    for i in range(4):\n",
    "        for j in range(4):\n",
    "            if board[i][j] == \" \":\n",
    "                possible_actions.append(i*4 + j)\n",
    "\n",
    "\n",
    "\n",
    "    return random.choice(possible_actions)"
   ]
  },
  {
   "cell_type": "code",
   "execution_count": 186,
   "metadata": {},
   "outputs": [],
   "source": [
    "def play_one_game(policy_player1, policy_player2):\n",
    "    tictactoe = TicTacToe()\n",
    "\n",
    "\n",
    "    terminated = 0\n",
    "    board = [[\" \" for _ in range(4)] for _ in range(4)]\n",
    "\n",
    "    for i in range(8):\n",
    "        for turn in [-1, 1]:\n",
    "            action = 0\n",
    "            if turn == -1:\n",
    "                action = policy_player1(board)\n",
    "            else:\n",
    "                action = policy_player2(board)\n",
    "\n",
    "            board, player, terminated, reward = tictactoe.step(action)\n",
    "\n",
    "            # Uncomment this if you want to see the board\n",
    "            tictactoe.print_board()\n",
    "\n",
    "            if terminated:\n",
    "                break\n",
    "\n",
    "    return -1*reward # This is the player who won\n"
   ]
  },
  {
   "cell_type": "code",
   "execution_count": 149,
   "metadata": {},
   "outputs": [],
   "source": [
    "def run_alternating_games(games=10):\n",
    "    results = []\n",
    "    for i in range(games):\n",
    "        for j in range(2):\n",
    "            if j==0:\n",
    "                winner = play_one_game(policy_player1, policy_player2)\n",
    "\n",
    "                match winner:\n",
    "                    case -1:\n",
    "                        results.append(1)\n",
    "                    case 1:\n",
    "                        results.append(2)\n",
    "                    case 0:\n",
    "                        results.append(0)\n",
    "\n",
    "            if j==1:\n",
    "                winner = play_one_game(policy_player2, policy_player1)\n",
    "\n",
    "                match winner:\n",
    "                    case -1:\n",
    "                        results.append(2)\n",
    "                    case 1:\n",
    "                        results.append(1)\n",
    "                    case 0:\n",
    "                        results.append(0)\n",
    "\n",
    "\n",
    "    return results"
   ]
  },
  {
   "cell_type": "code",
   "execution_count": 183,
   "metadata": {},
   "outputs": [
    {
     "name": "stdout",
     "output_type": "stream",
     "text": [
      "Draws:  845\n",
      "Player 1 Wins: 577\n",
      "Player 2 Wins: 578\n"
     ]
    }
   ],
   "source": [
    "results = run_alternating_games(1000)\n",
    "print(\"Draws: \", results.count(0))\n",
    "print(\"Player 1 Wins:\", results.count(1))\n",
    "print(\"Player 2 Wins:\", results.count(2))"
   ]
  },
  {
   "cell_type": "markdown",
   "metadata": {},
   "source": [
    "I have created two functions that randomly select any action from the available actions from the board. Your team will have to create such a function that outputs the optimal action given a particular board state. This a similar kind of code I will be using on competition day when your function will play against an opponent's functions for perhaps a 1000 games. "
   ]
  },
  {
   "cell_type": "markdown",
   "metadata": {},
   "source": [
    "I will pass your and your opponent's function into the run alternating games function for maybe 1000 games to see who won more games. That person will be the winner of the match. I think it's a reliable method to compare policies. Run them by each for 1000s of games and see what policy wins the most games."
   ]
  },
  {
   "cell_type": "markdown",
   "metadata": {},
   "source": [
    "You have to solve this part using **Q Learning**"
   ]
  }
 ],
 "metadata": {
  "kernelspec": {
   "display_name": "Python 3",
   "language": "python",
   "name": "python3"
  },
  "language_info": {
   "codemirror_mode": {
    "name": "ipython",
    "version": 3
   },
   "file_extension": ".py",
   "mimetype": "text/x-python",
   "name": "python",
   "nbconvert_exporter": "python",
   "pygments_lexer": "ipython3",
   "version": "3.11.4"
  }
 },
 "nbformat": 4,
 "nbformat_minor": 2
}
