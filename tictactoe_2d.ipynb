{
 "cells": [
  {
   "cell_type": "code",
   "execution_count": 1,
   "metadata": {},
   "outputs": [],
   "source": [
    "import numpy as np\n",
    "import matplotlib.pyplot as plt"
   ]
  },
  {
   "cell_type": "code",
   "execution_count": 1,
   "metadata": {},
   "outputs": [],
   "source": [
    "\n",
    "class TicTacToe:\n",
    "    def __init__(self):\n",
    "        self.board = [0 for _ in range(9)]\n",
    "        self.current_player = -1\n",
    "\n",
    "    def print_board(self):\n",
    "        for i in range(0, 9, 3):\n",
    "\n",
    "\n",
    "            print(str(self.board[i]) + \"|\" + str(self.board[i + 1]) + \"|\" + str(self.board[i + 2]))\n",
    "            if i < 6:\n",
    "                print(\"-\" * 5)\n",
    "\n",
    "        print()\n",
    "\n",
    "    def check_win(self, player):\n",
    "        win_conditions = [(0, 1, 2), (3, 4, 5), (6, 7, 8),\n",
    "                        (0, 3, 6), (1, 4, 7), (2, 5, 8),\n",
    "                        (0, 4, 8), (2, 4, 6)]\n",
    "\n",
    "        for condition in win_conditions:\n",
    "            if all(self.board[i] == player for i in condition):\n",
    "                return True\n",
    "        return False\n",
    "\n",
    "    def step(self, position):\n",
    "        if self.board[position] == 0:\n",
    "            self.board[position] = self.current_player\n",
    "            if self.check_win(self.current_player):\n",
    "                return self.board, self.current_player, True\n",
    "            elif 0 not in self.board:\n",
    "                return self.board, 0, True\n",
    "            self.current_player = 1 if self.current_player == -1 else -1\n",
    "            return self.board, self.current_player, False\n",
    "        else:\n",
    "            print(\"Cell already occupied. Try again.\")\n",
    "            return self.board, self.current_player, False\n",
    "\n",
    "\n",
    "    def reset(self):\n",
    "        self.__init__()\n"
   ]
  },
  {
   "cell_type": "code",
   "execution_count": null,
   "metadata": {},
   "outputs": [],
   "source": [
    "env = TicTacToe()\n",
    "while True:\n",
    "    env.print_board() # You can comment this part out if you don't want to see the board\n",
    "    position = int(input(f\"Player {env.current_player}, enter your move (0-8): \"))\n",
    "    if not (0 <= position < 9):\n",
    "        print(\"Invalid position. Please try again.\")\n",
    "        continue\n",
    "\n",
    "    board, player, terminated = env.step(position)\n",
    "\n",
    "    if terminated:\n",
    "        if player == -1:\n",
    "            print(\"Player -1 wins\")\n",
    "        elif player == 1:\n",
    "            print(\"Player 1 wins\")\n",
    "        elif player == 0:\n",
    "            print(\"It's a draw\")\n",
    "        break"
   ]
  },
  {
   "cell_type": "code",
   "execution_count": null,
   "metadata": {},
   "outputs": [],
   "source": [
    "# If you want to use the GUI version that is up to you. While testing your algorithm we will use a code simliar to the above.\n",
    "\n",
    "import tkinter as tk\n",
    "from tkinter import messagebox\n",
    "\n",
    "class TicTacToeGUI:\n",
    "    def __init__(self, root):\n",
    "        self.root = root\n",
    "        self.root.title(\"Tic Tac Toe\")\n",
    "        self.game = TicTacToe()\n",
    "        self.buttons = []\n",
    "        self.create_board()\n",
    "\n",
    "    def create_board(self):\n",
    "        for i in range(3):\n",
    "            for j in range(3):\n",
    "                button = tk.Button(self.root, text=\" \", font=('Arial', 20), width=5, height=2,\n",
    "                                   command=lambda row=i, col=j: self.on_click(row, col))\n",
    "                button.grid(row=i, column=j)\n",
    "                self.buttons.append(button)\n",
    "\n",
    "    def update_board(self):\n",
    "        for i in range(9):\n",
    "            self.buttons[i]['text'] = 'X' if self.game.board[i] == -1 else 'O' if self.game.board[i] == 1 else ' '\n",
    "\n",
    "    def on_click(self, row, col):\n",
    "        position = row * 3 + col\n",
    "        board, player, terminated = self.game.step(position)\n",
    "        self.update_board()\n",
    "\n",
    "        if terminated:\n",
    "            if player == -1:\n",
    "                messagebox.showinfo(\"Game Over\", \"Player -1 wins\")\n",
    "            elif player == 1:\n",
    "                messagebox.showinfo(\"Game Over\", \"Player 1 wins\")\n",
    "            elif player == 0:\n",
    "                messagebox.showinfo(\"Game Over\", \"It's a draw\")\n",
    "            self.root.quit()\n",
    "\n",
    "if __name__ == '__main__':\n",
    "    root = tk.Tk()\n",
    "    tic_tac_toe_gui = TicTacToeGUI(root)\n",
    "    root.mainloop()\n"
   ]
  },
  {
   "cell_type": "markdown",
   "metadata": {},
   "source": [
    "You are required to solve Tic Tac Toe using **Value Iteration**. The optimal policy should give a draw no matter what.  \n",
    "It should work whether you are player -1 or player 1. It doesn't matter what your turn is."
   ]
  },
  {
   "cell_type": "markdown",
   "metadata": {},
   "source": [
    "It also follows that your code should win board states where it can and make optimal decisions."
   ]
  },
  {
   "cell_type": "markdown",
   "metadata": {},
   "source": [
    "Our final goal is to solve for 3d Tic Tac Toe, 4 X 4 X 4, using reinforcement learning. But, we will start by solving the 2d case and then gradually build up to the 3d case."
   ]
  },
  {
   "cell_type": "markdown",
   "metadata": {},
   "source": [
    "There is no starter code available. You are free to choose your implementation. One suggestion is to give +1 reward for a win, 0 for a draw and -1 for a loss."
   ]
  }
 ],
 "metadata": {
  "kernelspec": {
   "display_name": "Python 3",
   "language": "python",
   "name": "python3"
  },
  "language_info": {
   "codemirror_mode": {
    "name": "ipython",
    "version": 3
   },
   "file_extension": ".py",
   "mimetype": "text/x-python",
   "name": "python",
   "nbconvert_exporter": "python",
   "pygments_lexer": "ipython3",
   "version": "3.11.4"
  }
 },
 "nbformat": 4,
 "nbformat_minor": 2
}
